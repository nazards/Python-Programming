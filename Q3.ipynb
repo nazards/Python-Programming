{
 "cells": [
  {
   "cell_type": "code",
   "execution_count": 1,
   "metadata": {},
   "outputs": [],
   "source": [
    "#Write a Python program to accept the user's first and last name and then getting them printed in the the \n",
    "reverse order with a space between first name and last name."
   ]
  },
  {
   "cell_type": "code",
   "execution_count": 2,
   "metadata": {},
   "outputs": [
    {
     "name": "stdout",
     "output_type": "stream",
     "text": [
      "Enter Your First Name :Acad\n",
      "Enter Your Last Name :Gild\n",
      "HelloAcadGild\n",
      "HelloGildAcad\n"
     ]
    }
   ],
   "source": [
    "fname=input('Enter Your First Name :')\n",
    "lname=input('Enter Your Last Name :')\n",
    "print(\"Hello\"+fname+\"\"+lname)\n",
    "print(\"Hello\"+lname+\"\"+fname)"
   ]
  },
  {
   "cell_type": "code",
   "execution_count": null,
   "metadata": {},
   "outputs": [],
   "source": []
  }
 ],
 "metadata": {
  "kernelspec": {
   "display_name": "Python 3",
   "language": "python",
   "name": "python3"
  },
  "language_info": {
   "codemirror_mode": {
    "name": "ipython",
    "version": 3
   },
   "file_extension": ".py",
   "mimetype": "text/x-python",
   "name": "python",
   "nbconvert_exporter": "python",
   "pygments_lexer": "ipython3",
   "version": "3.7.0"
  }
 },
 "nbformat": 4,
 "nbformat_minor": 2
}
